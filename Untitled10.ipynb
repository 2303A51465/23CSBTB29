{
  "nbformat": 4,
  "nbformat_minor": 0,
  "metadata": {
    "colab": {
      "provenance": [],
      "authorship_tag": "ABX9TyPxhwgEnPxx0y8vIX5JvsNe",
      "include_colab_link": true
    },
    "kernelspec": {
      "name": "python3",
      "display_name": "Python 3"
    },
    "language_info": {
      "name": "python"
    }
  },
  "cells": [
    {
      "cell_type": "markdown",
      "metadata": {
        "id": "view-in-github",
        "colab_type": "text"
      },
      "source": [
        "<a href=\"https://colab.research.google.com/github/2303A51465/23CSBTB29/blob/main/Untitled10.ipynb\" target=\"_parent\"><img src=\"https://colab.research.google.com/assets/colab-badge.svg\" alt=\"Open In Colab\"/></a>"
      ]
    },
    {
      "cell_type": "code",
      "source": [
        "class Game:\n",
        "  def actions(self, state ):\n",
        "\n",
        "    raise NotImplementedError\n",
        "    def result(self, state , move ):\n",
        "\n",
        "      raise NotImplementedError\n",
        "      def is_terminal (self, state ):\n",
        "\n",
        "        return not self.actions(state)\n",
        "        def utility(self, state , player ):\n",
        "\n",
        "          raise NotImplementedError\n"
      ],
      "metadata": {
        "id": "jSm_Xv0i-7D2"
      },
      "execution_count": 5,
      "outputs": []
    },
    {
      "cell_type": "code",
      "source": [
        "def play_game (game , strategies : dict , verbose=False ):\n",
        "\n",
        "\n",
        "  state = game.initial\n",
        "  while not game. is_terminal (state ):\n",
        "    player = state. to_move\n",
        "    move = strategies [player ](game , state)\n",
        "    state = game.result(state , move)\n",
        "    if verbose:\n",
        "      print(\"Player\", player , \"move:\", move)\n",
        "      print(state)\n",
        "  return state\n",
        "\n",
        "\n",
        "\n",
        "\n",
        "\n",
        "\n",
        "\n",
        "\n",
        "\n",
        "\n"
      ],
      "metadata": {
        "id": "eT-EJNVU_-OC"
      },
      "execution_count": null,
      "outputs": []
    },
    {
      "cell_type": "code",
      "source": [
        "def minimax_search (game , state ):\n",
        "\n",
        "  player = state. to_move\n",
        "  def max_value (state ):\n",
        "    if game. is_terminal (state ):\n",
        "     return game.utility(state , player), None\n",
        "    v, move = -math.inf\n",
        "    for a in game.actions(state ):\n",
        "      v2,_ = min_value (game.result(state , a))\n",
        "      if v2 > v:\n",
        "       v, move = v2 , a\n",
        "    return v, move\n",
        "  def min_value (state ):\n",
        "    if game. is_terminal (state ):\n",
        "      return game.utility(state , player), None\n",
        "    v, move = +infinity , None\n",
        "    for a in game.actions(state ):\n",
        "      v2,_ = max_value (game.result(state , a))\n",
        "      if v2 < v:\n",
        "        v, move = v2 , a\n",
        "    return v, move\n",
        "  return max_value (state)\n"
      ],
      "metadata": {
        "id": "JOVT9_aCD7M8"
      },
      "execution_count": null,
      "outputs": []
    },
    {
      "cell_type": "code",
      "source": [
        "def alphabeta_search (game , state ):\n",
        "\n",
        "\n",
        "  player = state. to_move\n",
        "  def max_value (state , alpha , beta ):\n",
        "    if game. is_terminal (state ):\n",
        "     return game.utility(state , player), None\n",
        "  v, move = -math.inf,\n",
        "  for a in game.actions(state ):\n",
        "    v2 ,_ = min_value (game.result(state , a), alpha , beta)\n",
        "    if v2 > v:\n",
        "      v, move = v2 , a\n",
        "      alpha = max(alpha , v)\n",
        "    if v >= beta:\n",
        "      return v, move\n",
        "  return v, move\n",
        "\n",
        "  def min_value (state , alpha , beta ):\n",
        "    if game. is_terminal (state ):\n",
        "      return game.utility(state , player), None\n",
        "    v, move = math.inf , None\n",
        "    for a in game.actions(state ):\n",
        "      v2 ,_ = max_value (game.result(state , a), alpha , beta)\n",
        "      if v2 < v:\n",
        "        v, move = v2 , a\n",
        "        beta = min(beta , v)\n",
        "      if v <= alpha:\n",
        "        return v, move\n",
        "      return v, move\n",
        "  return max_value (state , -math.inf , math.inf)\n"
      ],
      "metadata": {
        "id": "VL5PhLUaFIJk"
      },
      "execution_count": null,
      "outputs": []
    },
    {
      "cell_type": "code",
      "source": [
        "class TicTacToe (Game ):\n",
        "\n",
        "\n",
        "\n",
        "  def __init__ (self, height =3, width =3, k=3):\n",
        "      self.k = k # k in a row\n",
        "      self.squares = {(x, y) for x in range(width) for y in range(height)}\n",
        "      self.initial = Board(height=height , width=width , to_move ='X', utility =0)\n",
        "  def actions(self, board ):\n",
        "\n",
        "      return self.squares - set(board)\n",
        "  def result(self, board , square ):\n",
        "\n",
        "      player = board. to_move\n",
        "      board = board.new({square: player}, to_move =('O' if player == 'X' else 'X'))\n",
        "      win = k in row (board , player , square , self.k)\n",
        "      board.utility = (0 if not win else +1 if player == 'X' else -1)\n",
        "      return board\n",
        "  def utility(self, board , player ):\n",
        "\n",
        "      return board.utility if player == 'X' else -board.utility\n",
        "  def is_terminal (self, board ):\n",
        "\n",
        "      return board.utility != 0 or len(self.squares) == len(board)\n",
        "  def display(self, board ):\n",
        "      print(board)\n",
        "  def k_in_row (board , player , square , k):\n",
        "\n",
        "      def in_row (x, y, dx , dy):\n",
        "          return 0 if board[x, y] != player else 1 + in_row (x + dx , y + dy , dx , dy)\n",
        "      return any( in_row(*square , dx , dy) + in_row(*square , -dx , -dy)-1>=k\n",
        "                  for (dx , dy) in ((0, 1), (1, 0), (1, 1), (1, -1)))"
      ],
      "metadata": {
        "id": "Uu7u-C1QIgJ8"
      },
      "execution_count": null,
      "outputs": []
    },
    {
      "cell_type": "code",
      "source": [
        "from collections import defaultdict\n",
        "\n",
        "class Board(defaultdict):\n",
        "    \"\"\"A board has the player to move, a cached utility value,\n",
        "    and a dict of (x, y): player entries, where player is 'X' or 'O'.\"\"\"\n",
        "\n",
        "    empty = '.'\n",
        "    off = '#'\n",
        "\n",
        "    def _init_(self, width=8, height=8, to_move=None, **kwds):\n",
        "        super()._init_()\n",
        "        self.update(width=width, height=height, to_move=to_move, **kwds)\n",
        "\n",
        "    def new(self, changes: dict, **kwds) -> \"Board\":\n",
        "        \"\"\"Given a dict of (x, y): contents changes, return a new Board with the changes.\"\"\"\n",
        "        board = Board(width=self.width, height=self.height, **kwds)\n",
        "        board.update(self)\n",
        "        board.update(changes)\n",
        "        return board\n",
        "\n",
        "    def _missing_(self, loc):\n",
        "        x, y = loc\n",
        "        if 0 <= x < self.width and 0 <= y < self.height:\n",
        "            return self.empty\n",
        "        else:\n",
        "            return self.off\n",
        "\n",
        "    def _hash_(self):\n",
        "        return hash(tuple(sorted(self.items()))) + hash(self.to_move)\n",
        "\n",
        "    def _repr_(self):\n",
        "        def row(y):\n",
        "            return ''.join(self[x, y] for x in range(self.width))\n",
        "        return '\\n'.join(map(row, range(self.height))) + '\\n'"
      ],
      "metadata": {
        "id": "yFJ2ZMAXhIjM"
      },
      "execution_count": 7,
      "outputs": []
    },
    {
      "cell_type": "code",
      "source": [
        "from collections import defaultdict\n",
        "\n",
        "class Board(defaultdict):\n",
        "    def __init__(self, width=8, height=8, to_move=None, **kwds):\n",
        "        super().__init__(lambda: self.empty)\n",
        "        self.update(width=width, height=height, to_move=to_move, **kwds)\n",
        "\n",
        "    def new(self, changes: dict, **kwds) -> 'Board':\n",
        "        \"\"\"Given a dict of (x, y): contents changes, return a new Board with the changes.\"\"\"\n",
        "        board = Board(width=self.width, height=self.height, **kwds)\n",
        "        board.update(self)\n",
        "        board.update(changes)\n",
        "        return board\n",
        "\n",
        "    def missing(self, loc):\n",
        "        x, y = loc\n",
        "        if 0 <= x < self.width and 0 <= y < self.height:\n",
        "            return self.empty\n",
        "        else:\n",
        "            return self.off\n",
        "\n",
        "    def __hash__(self):\n",
        "        return hash(tuple(sorted(self.items()))) + hash(self.to_move)\n",
        "\n",
        "    def __repr__(self):\n",
        "        def row(y):\n",
        "            return ''.join(self[x, y] for x in range(self.width))\n",
        "        n = '\\n'\n",
        "        return n.join(map(row, range(self.height))) + n\n",
        "\n",
        "    empty = '.'\n",
        "    off = '#'\n"
      ],
      "metadata": {
        "id": "CmJZ5XVbiLCi"
      },
      "execution_count": 8,
      "outputs": []
    },
    {
      "cell_type": "code",
      "source": [
        "import random\n",
        "\n",
        "def random_player(game, state):\n",
        "    \"\"\"Returns a random move from the available actions.\"\"\"\n",
        "    return random.choice(list(game.actions(state)))\n",
        "\n",
        "def player(search_algorithm):\n",
        "    \"\"\"Returns a player function that uses the specified search algorithm.\"\"\"\n",
        "    return lambda game, state: search_algorithm(game, state)[1]\n"
      ],
      "metadata": {
        "id": "3WyoxL_Bimzm"
      },
      "execution_count": 9,
      "outputs": []
    }
  ]
}